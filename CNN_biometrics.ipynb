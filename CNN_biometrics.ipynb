{
  "nbformat": 4,
  "nbformat_minor": 0,
  "metadata": {
    "colab": {
      "name": "CNN_biometrics.ipynb",
      "version": "0.3.2",
      "provenance": [],
      "collapsed_sections": [],
      "toc_visible": true
    },
    "kernelspec": {
      "name": "python3",
      "display_name": "Python 3"
    },
    "accelerator": "GPU"
  },
  "cells": [
    {
      "cell_type": "code",
      "metadata": {
        "id": "VK9x_vCnanXR",
        "colab_type": "code",
        "outputId": "6a99fb28-7e2f-40de-83ea-00da5e606711",
        "colab": {
          "base_uri": "https://localhost:8080/",
          "height": 54
        }
      },
      "source": [
        "from google.colab import drive\n",
        "drive.mount('/content/drive')"
      ],
      "execution_count": 1,
      "outputs": [
        {
          "output_type": "stream",
          "text": [
            "Drive already mounted at /content/drive; to attempt to forcibly remount, call drive.mount(\"/content/drive\", force_remount=True).\n"
          ],
          "name": "stdout"
        }
      ]
    },
    {
      "cell_type": "code",
      "metadata": {
        "id": "Pg2T9ju3b8GW",
        "colab_type": "code",
        "colab": {}
      },
      "source": [
        "#!ls drive/My\\ Drive/CNN_biometrics/new_one/dbFP"
      ],
      "execution_count": 0,
      "outputs": []
    },
    {
      "cell_type": "markdown",
      "metadata": {
        "id": "kl8Q3nIqdf9e",
        "colab_type": "text"
      },
      "source": [
        "# creating dataset"
      ]
    },
    {
      "cell_type": "code",
      "metadata": {
        "id": "_BhjXgNkdlCh",
        "colab_type": "code",
        "colab": {}
      },
      "source": [
        "import matplotlib.pyplot as plt\n",
        "%matplotlib inline\n",
        "\n",
        "from skimage.feature import greycomatrix, greycoprops\n",
        "from skimage import io\n",
        "import numpy as np"
      ],
      "execution_count": 0,
      "outputs": []
    },
    {
      "cell_type": "code",
      "metadata": {
        "id": "YOy7EnfodpXT",
        "colab_type": "code",
        "colab": {}
      },
      "source": [
        "#fp1 = io.imread(\"/content/drive/My Drive/CNN_biometrics/new_one/dbFP/a001_05.pgm\")\n",
        "#plt.imshow(fp1, cmap=plt.cm.gray, interpolation='nearest', vmin=0, vmax=255)\n",
        "#plt.show()"
      ],
      "execution_count": 0,
      "outputs": []
    },
    {
      "cell_type": "code",
      "metadata": {
        "id": "V4SnuA8gds1T",
        "colab_type": "code",
        "colab": {}
      },
      "source": [
        ""
      ],
      "execution_count": 0,
      "outputs": []
    },
    {
      "cell_type": "markdown",
      "metadata": {
        "id": "ePXq7B1aeg7G",
        "colab_type": "text"
      },
      "source": [
        "# foreground features"
      ]
    },
    {
      "cell_type": "code",
      "metadata": {
        "id": "U9h64IiSgQ-I",
        "colab_type": "code",
        "colab": {}
      },
      "source": [
        "PATCH_SIZE = 28\n",
        "fgPatch = []\n",
        "\n",
        "for line in open(\"/content/drive/My Drive/CNN_biometrics/new_one/dbFP/fingerprint_fg.txt\"):\n",
        "    \n",
        "    if(len(line) != 1):\n",
        "\n",
        "        if(\".pgm\" in line):\n",
        "            fpImage_filePath = \"/content/drive/My Drive/CNN_biometrics/new_one/dbFP/\" + line[:-1]\n",
        "           # print(fpImage_filePath)\n",
        "            imageFP = io.imread(fpImage_filePath)\n",
        "            fg_locations = []\n",
        "            \n",
        "        \n",
        "        else:\n",
        "            locs = line.split()\n",
        "            \n",
        "            for elem in locs:\n",
        "                iLoc = elem\n",
        "                \n",
        "                iLoc = iLoc.split(\",\")\n",
        "#                 print(iLoc)\n",
        "                \n",
        "                rLoc = iLoc[0][1:]\n",
        "                cLoc = iLoc[1][:-1]\n",
        "                \n",
        "                pair = tuple([int(rLoc), int(cLoc)])\n",
        "                #print(pair)\n",
        "                #print(type(pair))\n",
        "                \n",
        "                fg_locations.append(pair)\n",
        "                \n",
        "            #print(fg_locations)\n",
        "            \n",
        "            for loc in fg_locations:\n",
        "                patch = imageFP[loc[0] : loc[0] + PATCH_SIZE,\n",
        "                               loc[1] : loc[1] + PATCH_SIZE]\n",
        "               # print(\"loc::::::::::::::::::::::::::::::::::::::\")\n",
        "               # print(loc)\n",
        "               # print(\"patch::::::::::::::::::::::::::::::::::::\")\n",
        "               # print(patch)\n",
        "                \n",
        "                fgPatch.append(patch)\n",
        "        "
      ],
      "execution_count": 0,
      "outputs": []
    },
    {
      "cell_type": "code",
      "metadata": {
        "id": "xk2OY0CXg5LY",
        "colab_type": "code",
        "colab": {}
      },
      "source": [
        "#len(fgPatch)"
      ],
      "execution_count": 0,
      "outputs": []
    },
    {
      "cell_type": "code",
      "metadata": {
        "id": "dKU3ISy5hGbi",
        "colab_type": "code",
        "colab": {}
      },
      "source": [
        "#fgPatch"
      ],
      "execution_count": 0,
      "outputs": []
    },
    {
      "cell_type": "code",
      "metadata": {
        "id": "vZwxsvZ2hJk4",
        "colab_type": "code",
        "colab": {}
      },
      "source": [
        "#plt.imshow(fgPatch[14], cmap=plt.cm.gray, interpolation='nearest',vmin=0, vmax=255)\n",
        "#plt.show()"
      ],
      "execution_count": 0,
      "outputs": []
    },
    {
      "cell_type": "code",
      "metadata": {
        "id": "yh43hCHDhOPC",
        "colab_type": "code",
        "colab": {}
      },
      "source": [
        "X_fg = np.array(fgPatch)"
      ],
      "execution_count": 0,
      "outputs": []
    },
    {
      "cell_type": "code",
      "metadata": {
        "id": "643a_gbChQxg",
        "colab_type": "code",
        "colab": {}
      },
      "source": [
        "#X_fg.shape"
      ],
      "execution_count": 0,
      "outputs": []
    },
    {
      "cell_type": "code",
      "metadata": {
        "id": "JZG-eyOphTh7",
        "colab_type": "code",
        "colab": {}
      },
      "source": [
        "y_fg = np.array([1 for i in range(len(fgPatch))]).reshape(-1,1)\n",
        "y_fg = y_fg.astype(dtype=np.int32)"
      ],
      "execution_count": 0,
      "outputs": []
    },
    {
      "cell_type": "code",
      "metadata": {
        "id": "7vjEndrnhYCl",
        "colab_type": "code",
        "colab": {}
      },
      "source": [
        "#y_fg.shape"
      ],
      "execution_count": 0,
      "outputs": []
    },
    {
      "cell_type": "code",
      "metadata": {
        "id": "OvpudgayhaTw",
        "colab_type": "code",
        "colab": {}
      },
      "source": [
        "#print(y_fg.dtype)\n",
        "#y_fg"
      ],
      "execution_count": 0,
      "outputs": []
    },
    {
      "cell_type": "markdown",
      "metadata": {
        "id": "AW5u2Szmhk-e",
        "colab_type": "text"
      },
      "source": [
        "# background features"
      ]
    },
    {
      "cell_type": "code",
      "metadata": {
        "id": "6l_G5dRQhp4y",
        "colab_type": "code",
        "colab": {}
      },
      "source": [
        "PATCH_SIZE = 28\n",
        "bgPatch = []\n",
        "\n",
        "for line in open(\"/content/drive/My Drive/CNN_biometrics/new_one/dbFP/fingerprint_bg.txt\"):\n",
        "    #print(len(line))\n",
        "    \n",
        "    if(len(line) != 1):\n",
        "\n",
        "        if(\".pgm\" in line):\n",
        "            fpImage_filePath = \"/content/drive/My Drive/CNN_biometrics/new_one/dbFP/\" + line[:-1]\n",
        "           # print(fpImage_filePath)\n",
        "            imageFP = io.imread(fpImage_filePath)\n",
        "            bg_locations = []\n",
        "            \n",
        "        \n",
        "        else:\n",
        "            locs = line.split()\n",
        "            #print(locs)\n",
        "            \n",
        "            for elem in locs:\n",
        "                iLoc = elem\n",
        "                #print(elem)\n",
        "                \n",
        "                iLoc = iLoc.split(\",\")\n",
        "                #print(iLoc)\n",
        "                \n",
        "                rLoc = iLoc[0][1:]\n",
        "                cLoc = iLoc[1][:-1]\n",
        "                \n",
        "                pair = tuple([int(rLoc), int(cLoc)])\n",
        "                #print(pair)\n",
        "                #print(type(pair))\n",
        "                \n",
        "                bg_locations.append(pair)\n",
        "                \n",
        "           # print(bg_locations)\n",
        "            \n",
        "            for loc in bg_locations:\n",
        "                patch = imageFP[loc[0] : loc[0] + PATCH_SIZE,\n",
        "                               loc[1] : loc[1] + PATCH_SIZE]\n",
        "               # print(\"loc::::::::::::::::::::::::::::::::::::::\")\n",
        "              #  print(loc)\n",
        "             #   print(\"patch::::::::::::::::::::::::::::::::::::\")\n",
        "            #    print(patch)\n",
        "                \n",
        "                bgPatch.append(patch)\n",
        "        "
      ],
      "execution_count": 0,
      "outputs": []
    },
    {
      "cell_type": "code",
      "metadata": {
        "id": "huwRL495h0dN",
        "colab_type": "code",
        "colab": {}
      },
      "source": [
        "#len(bgPatch)"
      ],
      "execution_count": 0,
      "outputs": []
    },
    {
      "cell_type": "code",
      "metadata": {
        "id": "5KGL7SckiAJi",
        "colab_type": "code",
        "colab": {}
      },
      "source": [
        "X_bg = np.array(bgPatch)"
      ],
      "execution_count": 0,
      "outputs": []
    },
    {
      "cell_type": "code",
      "metadata": {
        "id": "E-OgClnoiCP_",
        "colab_type": "code",
        "colab": {}
      },
      "source": [
        "#X_bg.shape"
      ],
      "execution_count": 0,
      "outputs": []
    },
    {
      "cell_type": "code",
      "metadata": {
        "id": "RjgkiViKiFtZ",
        "colab_type": "code",
        "colab": {}
      },
      "source": [
        "y_bg = np.array([0 for i in range(len(bgPatch))]).reshape(-1,1)\n",
        "y_bg = y_bg.astype(dtype=np.int32)"
      ],
      "execution_count": 0,
      "outputs": []
    },
    {
      "cell_type": "code",
      "metadata": {
        "id": "DqAFGD1biIYj",
        "colab_type": "code",
        "colab": {}
      },
      "source": [
        "#y_bg.shape"
      ],
      "execution_count": 0,
      "outputs": []
    },
    {
      "cell_type": "code",
      "metadata": {
        "id": "CxuSHGcniLHd",
        "colab_type": "code",
        "colab": {}
      },
      "source": [
        "X = np.concatenate([X_fg, X_bg])"
      ],
      "execution_count": 0,
      "outputs": []
    },
    {
      "cell_type": "code",
      "metadata": {
        "id": "uQpFYG4jiX7v",
        "colab_type": "code",
        "colab": {}
      },
      "source": [
        "#X.shape"
      ],
      "execution_count": 0,
      "outputs": []
    },
    {
      "cell_type": "code",
      "metadata": {
        "id": "Xe3eDcIuibPQ",
        "colab_type": "code",
        "colab": {}
      },
      "source": [
        "y = np.concatenate([y_fg, y_bg])"
      ],
      "execution_count": 0,
      "outputs": []
    },
    {
      "cell_type": "code",
      "metadata": {
        "id": "kBCx-qx4if5r",
        "colab_type": "code",
        "colab": {}
      },
      "source": [
        "#y.shape"
      ],
      "execution_count": 0,
      "outputs": []
    },
    {
      "cell_type": "code",
      "metadata": {
        "id": "3mcREa1M9yjF",
        "colab_type": "code",
        "colab": {}
      },
      "source": [
        "from sklearn.model_selection import train_test_split\n",
        "X_train,X_test,y_train,y_test = train_test_split(X,y,test_size = 0.2,stratify = y,random_state = 42)"
      ],
      "execution_count": 0,
      "outputs": []
    },
    {
      "cell_type": "markdown",
      "metadata": {
        "id": "felTg4gWirHH",
        "colab_type": "text"
      },
      "source": [
        "# save npz array"
      ]
    },
    {
      "cell_type": "code",
      "metadata": {
        "id": "ZpyRd39hiubx",
        "colab_type": "code",
        "colab": {}
      },
      "source": [
        "np.savez('fingerprint_data.npz', \n",
        "         Xtrain = X_train, Xtest = X_test,ytrain = y_train,ytest = y_test)"
      ],
      "execution_count": 0,
      "outputs": []
    },
    {
      "cell_type": "markdown",
      "metadata": {
        "id": "kduqIouAjMY0",
        "colab_type": "text"
      },
      "source": [
        "# CNN model architecture"
      ]
    },
    {
      "cell_type": "code",
      "metadata": {
        "id": "M5Bty2Y4jShh",
        "colab_type": "code",
        "colab": {}
      },
      "source": [
        "import numpy as np\n",
        "import matplotlib.pyplot as plt\n",
        "%matplotlib inline\n",
        "import tensorflow as tf\n",
        "from tensorflow import keras\n",
        "tf.set_random_seed(42)\n",
        "np.random.seed(42)"
      ],
      "execution_count": 0,
      "outputs": []
    },
    {
      "cell_type": "code",
      "metadata": {
        "id": "vyKXVs2WjTRT",
        "colab_type": "code",
        "colab": {}
      },
      "source": [
        "def loadNpData():\n",
        "    data = np.load('fingerprint_data.npz')\n",
        "    X_train = data['Xtrain']\n",
        "    X_test = data['Xtest']\n",
        "    y_train = data['ytrain']\n",
        "    y_test= data['ytest']\n",
        "    \n",
        "    \n",
        "    return X_train,X_test,y_train,y_test"
      ],
      "execution_count": 0,
      "outputs": []
    },
    {
      "cell_type": "code",
      "metadata": {
        "id": "JvaPCPG1jXr5",
        "colab_type": "code",
        "colab": {}
      },
      "source": [
        "X_train,X_test,y_train,y_test = loadNpData()"
      ],
      "execution_count": 0,
      "outputs": []
    },
    {
      "cell_type": "code",
      "metadata": {
        "id": "pMmehv5JjgNX",
        "colab_type": "code",
        "outputId": "7f2b3f19-7682-4761-8c33-eb9900268300",
        "colab": {
          "base_uri": "https://localhost:8080/",
          "height": 34
        }
      },
      "source": [
        "print(X_train.shape)"
      ],
      "execution_count": 29,
      "outputs": [
        {
          "output_type": "stream",
          "text": [
            "(400, 28, 28)\n"
          ],
          "name": "stdout"
        }
      ]
    },
    {
      "cell_type": "code",
      "metadata": {
        "id": "ryoxHiHVjjn_",
        "colab_type": "code",
        "outputId": "0eb134e5-d2e4-4576-d0f4-c58d80258910",
        "colab": {
          "base_uri": "https://localhost:8080/",
          "height": 34
        }
      },
      "source": [
        "print(X_test.shape)"
      ],
      "execution_count": 30,
      "outputs": [
        {
          "output_type": "stream",
          "text": [
            "(100, 28, 28)\n"
          ],
          "name": "stdout"
        }
      ]
    },
    {
      "cell_type": "code",
      "metadata": {
        "id": "bIfj2lq5jtdN",
        "colab_type": "code",
        "outputId": "a33ab828-054c-4e24-ac7a-7dd62c858d98",
        "colab": {
          "base_uri": "https://localhost:8080/",
          "height": 34
        }
      },
      "source": [
        "print(y_test.shape)"
      ],
      "execution_count": 31,
      "outputs": [
        {
          "output_type": "stream",
          "text": [
            "(100, 1)\n"
          ],
          "name": "stdout"
        }
      ]
    },
    {
      "cell_type": "code",
      "metadata": {
        "id": "qT3CDMryjwIg",
        "colab_type": "code",
        "outputId": "96c94692-884e-425b-94b1-2233aa814d74",
        "colab": {
          "base_uri": "https://localhost:8080/",
          "height": 34
        }
      },
      "source": [
        "print(y_train.shape)"
      ],
      "execution_count": 32,
      "outputs": [
        {
          "output_type": "stream",
          "text": [
            "(400, 1)\n"
          ],
          "name": "stdout"
        }
      ]
    },
    {
      "cell_type": "code",
      "metadata": {
        "id": "Q6pmq57Xjzae",
        "colab_type": "code",
        "colab": {}
      },
      "source": [
        "model_cnn = keras.models.Sequential()"
      ],
      "execution_count": 0,
      "outputs": []
    },
    {
      "cell_type": "code",
      "metadata": {
        "id": "9hxBwFdPkgzJ",
        "colab_type": "code",
        "outputId": "df7c23d2-82d2-4ad2-9cd3-54d732e5d3e6",
        "colab": {
          "base_uri": "https://localhost:8080/",
          "height": 411
        }
      },
      "source": [
        "model_cnn.add(keras.layers.Conv2D(filters = 32,kernel_size = 7,padding = \"same\",activation = 'relu',input_shape = [28,28,1]))\n",
        "#model_cnn.add(keras.layers.BatchNormalization())\n",
        "model_cnn.add(keras.layers.MaxPool2D(pool_size = 2))\n",
        "model_cnn.add(keras.layers.Conv2D(filters = 64,kernel_size = 3,padding = \"same\",activation = 'relu'))\n",
        "#model_cnn.add(keras.layers.BatchNormalization())\n",
        "model_cnn.add(keras.layers.MaxPool2D(pool_size = 2))\n",
        "model_cnn.add(keras.layers.Conv2D(filters = 32,kernel_size = 3,padding = \"same\",activation = 'relu'))\n",
        "model_cnn.summary()"
      ],
      "execution_count": 34,
      "outputs": [
        {
          "output_type": "stream",
          "text": [
            "WARNING: Logging before flag parsing goes to stderr.\n",
            "W0816 08:37:01.592044 139815565391744 deprecation.py:506] From /usr/local/lib/python3.6/dist-packages/tensorflow/python/ops/init_ops.py:1251: calling VarianceScaling.__init__ (from tensorflow.python.ops.init_ops) with dtype is deprecated and will be removed in a future version.\n",
            "Instructions for updating:\n",
            "Call initializer instance with the dtype argument instead of passing it to the constructor\n"
          ],
          "name": "stderr"
        },
        {
          "output_type": "stream",
          "text": [
            "Model: \"sequential\"\n",
            "_________________________________________________________________\n",
            "Layer (type)                 Output Shape              Param #   \n",
            "=================================================================\n",
            "conv2d (Conv2D)              (None, 28, 28, 32)        1600      \n",
            "_________________________________________________________________\n",
            "max_pooling2d (MaxPooling2D) (None, 14, 14, 32)        0         \n",
            "_________________________________________________________________\n",
            "conv2d_1 (Conv2D)            (None, 14, 14, 64)        18496     \n",
            "_________________________________________________________________\n",
            "max_pooling2d_1 (MaxPooling2 (None, 7, 7, 64)          0         \n",
            "_________________________________________________________________\n",
            "conv2d_2 (Conv2D)            (None, 7, 7, 32)          18464     \n",
            "=================================================================\n",
            "Total params: 38,560\n",
            "Trainable params: 38,560\n",
            "Non-trainable params: 0\n",
            "_________________________________________________________________\n"
          ],
          "name": "stdout"
        }
      ]
    },
    {
      "cell_type": "code",
      "metadata": {
        "id": "6Y5XXWCqkjdQ",
        "colab_type": "code",
        "outputId": "f0705bb0-4819-47a6-e23f-650f39f8e355",
        "colab": {
          "base_uri": "https://localhost:8080/",
          "height": 459
        }
      },
      "source": [
        "model_cnn.add(keras.layers.Flatten())\n",
        "model_cnn.add(keras.layers.Dense(units = 128,activation = 'relu'))\n",
        "#model_cnn.add(keras.layers.BatchNormalization())\n",
        "#model_cnn.add(keras.layers.Dropout(0.5))\n",
        "model_cnn.add(keras.layers.Dense(units = 64,activation = 'relu'))\n",
        "#model_cnn.add(keras.layers.BatchNormalization())\n",
        "#model_cnn.add(keras.layers.Dropout(0.5))\n",
        "model_cnn.add(keras.layers.Dense(units = 2,activation = 'softmax'))\n",
        "model_cnn.summary()"
      ],
      "execution_count": 35,
      "outputs": [
        {
          "output_type": "stream",
          "text": [
            "Model: \"sequential\"\n",
            "_________________________________________________________________\n",
            "Layer (type)                 Output Shape              Param #   \n",
            "=================================================================\n",
            "conv2d (Conv2D)              (None, 28, 28, 32)        1600      \n",
            "_________________________________________________________________\n",
            "max_pooling2d (MaxPooling2D) (None, 14, 14, 32)        0         \n",
            "_________________________________________________________________\n",
            "conv2d_1 (Conv2D)            (None, 14, 14, 64)        18496     \n",
            "_________________________________________________________________\n",
            "max_pooling2d_1 (MaxPooling2 (None, 7, 7, 64)          0         \n",
            "_________________________________________________________________\n",
            "conv2d_2 (Conv2D)            (None, 7, 7, 32)          18464     \n",
            "_________________________________________________________________\n",
            "flatten (Flatten)            (None, 1568)              0         \n",
            "_________________________________________________________________\n",
            "dense (Dense)                (None, 128)               200832    \n",
            "_________________________________________________________________\n",
            "dense_1 (Dense)              (None, 64)                8256      \n",
            "_________________________________________________________________\n",
            "dense_2 (Dense)              (None, 2)                 130       \n",
            "=================================================================\n",
            "Total params: 247,778\n",
            "Trainable params: 247,778\n",
            "Non-trainable params: 0\n",
            "_________________________________________________________________\n"
          ],
          "name": "stdout"
        }
      ]
    },
    {
      "cell_type": "code",
      "metadata": {
        "id": "bEvvsUItknIT",
        "colab_type": "code",
        "colab": {}
      },
      "source": [
        "model_cnn.compile(loss = 'sparse_categorical_crossentropy',optimizer = 'adam',metrics = ['accuracy'])"
      ],
      "execution_count": 0,
      "outputs": []
    },
    {
      "cell_type": "code",
      "metadata": {
        "id": "wqxF3bRHkvoq",
        "colab_type": "code",
        "colab": {}
      },
      "source": [
        "X_train = X_train[...,np.newaxis]\n",
        "X_test = X_test[...,np.newaxis]"
      ],
      "execution_count": 0,
      "outputs": []
    },
    {
      "cell_type": "code",
      "metadata": {
        "id": "TKneba7TS9uU",
        "colab_type": "code",
        "colab": {}
      },
      "source": [
        "callbacks = [keras.callbacks.EarlyStopping(patience = 5),keras.callbacks.ModelCheckpoint(\"/content/drive/My Drive/CNN_biometrics/biometrics_model.h5\",save_best_only = True)]"
      ],
      "execution_count": 0,
      "outputs": []
    },
    {
      "cell_type": "code",
      "metadata": {
        "id": "Yk3foe8Mkx7p",
        "colab_type": "code",
        "outputId": "344d4eaa-95a9-4c30-c628-3d81e005570f",
        "colab": {
          "base_uri": "https://localhost:8080/",
          "height": 666
        }
      },
      "source": [
        "history_cnn = model_cnn.fit(X_train,y_train,epochs = 25,validation_split=0.1,callbacks=callbacks)"
      ],
      "execution_count": 39,
      "outputs": [
        {
          "output_type": "stream",
          "text": [
            "Train on 360 samples, validate on 40 samples\n",
            "Epoch 1/25\n",
            "360/360 [==============================] - 2s 6ms/sample - loss: 12.4555 - acc: 0.5556 - val_loss: 0.8320 - val_acc: 0.5750\n",
            "Epoch 2/25\n",
            "360/360 [==============================] - 0s 152us/sample - loss: 0.5742 - acc: 0.7028 - val_loss: 1.3203 - val_acc: 0.5250\n",
            "Epoch 3/25\n",
            "360/360 [==============================] - 0s 286us/sample - loss: 0.7455 - acc: 0.6750 - val_loss: 0.5606 - val_acc: 0.6250\n",
            "Epoch 4/25\n",
            "360/360 [==============================] - 0s 152us/sample - loss: 0.4975 - acc: 0.7556 - val_loss: 1.0904 - val_acc: 0.5000\n",
            "Epoch 5/25\n",
            "360/360 [==============================] - 0s 314us/sample - loss: 0.5256 - acc: 0.7389 - val_loss: 0.3107 - val_acc: 0.9500\n",
            "Epoch 6/25\n",
            "360/360 [==============================] - 0s 278us/sample - loss: 0.3052 - acc: 0.8972 - val_loss: 0.2247 - val_acc: 0.9250\n",
            "Epoch 7/25\n",
            "360/360 [==============================] - 0s 149us/sample - loss: 0.2416 - acc: 0.9194 - val_loss: 0.4364 - val_acc: 0.8000\n",
            "Epoch 8/25\n",
            "360/360 [==============================] - 0s 284us/sample - loss: 0.2776 - acc: 0.9028 - val_loss: 0.1838 - val_acc: 0.9250\n",
            "Epoch 9/25\n",
            "360/360 [==============================] - 0s 150us/sample - loss: 0.2465 - acc: 0.9056 - val_loss: 0.1889 - val_acc: 0.9250\n",
            "Epoch 10/25\n",
            "360/360 [==============================] - 0s 146us/sample - loss: 0.2618 - acc: 0.9139 - val_loss: 0.3926 - val_acc: 0.8750\n",
            "Epoch 11/25\n",
            "360/360 [==============================] - 0s 147us/sample - loss: 0.2338 - acc: 0.9222 - val_loss: 0.2654 - val_acc: 0.8750\n",
            "Epoch 12/25\n",
            "360/360 [==============================] - 0s 285us/sample - loss: 0.2204 - acc: 0.9278 - val_loss: 0.0957 - val_acc: 0.9500\n",
            "Epoch 13/25\n",
            "360/360 [==============================] - 0s 309us/sample - loss: 0.1724 - acc: 0.9472 - val_loss: 0.0764 - val_acc: 0.9750\n",
            "Epoch 14/25\n",
            "360/360 [==============================] - 0s 152us/sample - loss: 0.1566 - acc: 0.9556 - val_loss: 0.1098 - val_acc: 0.9500\n",
            "Epoch 15/25\n",
            "360/360 [==============================] - 0s 148us/sample - loss: 0.1912 - acc: 0.9583 - val_loss: 0.1153 - val_acc: 0.9500\n",
            "Epoch 16/25\n",
            "360/360 [==============================] - 0s 146us/sample - loss: 0.1967 - acc: 0.9444 - val_loss: 0.3351 - val_acc: 0.8250\n",
            "Epoch 17/25\n",
            "360/360 [==============================] - 0s 149us/sample - loss: 0.1811 - acc: 0.9278 - val_loss: 0.1321 - val_acc: 1.0000\n",
            "Epoch 18/25\n",
            "360/360 [==============================] - 0s 172us/sample - loss: 0.1320 - acc: 0.9500 - val_loss: 0.0933 - val_acc: 0.9500\n"
          ],
          "name": "stdout"
        }
      ]
    },
    {
      "cell_type": "code",
      "metadata": {
        "id": "6TmJozBCk0wC",
        "colab_type": "code",
        "outputId": "a0295dfb-19ee-4630-b335-1c887ff6b161",
        "colab": {
          "base_uri": "https://localhost:8080/",
          "height": 295
        }
      },
      "source": [
        "import pandas as pd\n",
        "pd.DataFrame(history_cnn.history).plot()\n",
        "plt.grid(True)\n",
        "plt.xlabel(\"epochs\")\n",
        "plt.ylabel(\"loss/accuracy\")\n",
        "plt.title(\"training and validation plot\")\n",
        "plt.show()"
      ],
      "execution_count": 40,
      "outputs": [
        {
          "output_type": "display_data",
          "data": {
            "image/png": "[encoded data removed]",
            "text/plain": [
              "<Figure size 432x288 with 1 Axes>"
            ]
          },
          "metadata": {
            "tags": []
          }
        }
      ]
    },
    {
      "cell_type": "code",
      "metadata": {
        "id": "AzneJo7JnA_L",
        "colab_type": "code",
        "outputId": "1872d2b3-d911-4d5e-d178-d4fc3b84361b",
        "colab": {
          "base_uri": "https://localhost:8080/",
          "height": 34
        }
      },
      "source": [
        "test_loss,test_accuracy = model_cnn.evaluate(X_test,y_test)"
      ],
      "execution_count": 41,
      "outputs": [
        {
          "output_type": "stream",
          "text": [
            "100/100 [==============================] - 0s 300us/sample - loss: 0.1126 - acc: 0.9500\n"
          ],
          "name": "stdout"
        }
      ]
    },
    {
      "cell_type": "code",
      "metadata": {
        "id": "Ait3uXtTisjc",
        "colab_type": "code",
        "colab": {
          "base_uri": "https://localhost:8080/",
          "height": 139
        },
        "outputId": "61607123-4062-4460-97d9-bce3ab5cc8db"
      },
      "source": [
        "best_model = keras.models.load_model(\"/content/drive/My Drive/CNN_biometrics/biometrics_model.h5\")"
      ],
      "execution_count": 42,
      "outputs": [
        {
          "output_type": "stream",
          "text": [
            "W0816 08:37:06.872303 139815565391744 deprecation.py:506] From /usr/local/lib/python3.6/dist-packages/tensorflow/python/ops/init_ops.py:97: calling GlorotUniform.__init__ (from tensorflow.python.ops.init_ops) with dtype is deprecated and will be removed in a future version.\n",
            "Instructions for updating:\n",
            "Call initializer instance with the dtype argument instead of passing it to the constructor\n",
            "W0816 08:37:06.874056 139815565391744 deprecation.py:506] From /usr/local/lib/python3.6/dist-packages/tensorflow/python/ops/init_ops.py:97: calling Zeros.__init__ (from tensorflow.python.ops.init_ops) with dtype is deprecated and will be removed in a future version.\n",
            "Instructions for updating:\n",
            "Call initializer instance with the dtype argument instead of passing it to the constructor\n"
          ],
          "name": "stderr"
        }
      ]
    },
    {
      "cell_type": "code",
      "metadata": {
        "id": "E3u7oBQ-nTYx",
        "colab_type": "code",
        "outputId": "b379b2df-998c-4053-f6f1-0cb2ab9c953c",
        "colab": {
          "base_uri": "https://localhost:8080/",
          "height": 34
        }
      },
      "source": [
        "print(\"test-loss: %f, test-accuracy: %f\" %(test_loss,test_accuracy))"
      ],
      "execution_count": 43,
      "outputs": [
        {
          "output_type": "stream",
          "text": [
            "test-loss: 0.112620, test-accuracy: 0.950000\n"
          ],
          "name": "stdout"
        }
      ]
    },
    {
      "cell_type": "code",
      "metadata": {
        "id": "CkfhAwsQ9MUF",
        "colab_type": "code",
        "colab": {}
      },
      "source": [
        ""
      ],
      "execution_count": 0,
      "outputs": []
    }
  ]
}